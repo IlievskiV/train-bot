{
 "cells": [
  {
   "cell_type": "code",
   "execution_count": 1,
   "metadata": {
    "collapsed": true
   },
   "outputs": [],
   "source": [
    "import glob\n",
    "import pandas as pd\n",
    "import numpy as np\n"
   ]
  },
  {
   "cell_type": "code",
   "execution_count": 2,
   "metadata": {
    "collapsed": false
   },
   "outputs": [
    {
     "name": "stderr",
     "output_type": "stream",
     "text": [
      "C:\\Anaconda3\\lib\\site-packages\\IPython\\core\\interactiveshell.py:2723: DtypeWarning: Columns (0,1,2,3,4,5,7,9,10,11,13,14,15,16,17,18,19,20) have mixed types. Specify dtype option on import or set low_memory=False.\n",
      "  interactivity=interactivity, compiler=compiler, result=result)\n"
     ]
    }
   ],
   "source": [
    "frames = []\n",
    "for path in glob.glob(\"../dataset/*.csv\"):\n",
    "    df = pd.read_csv(path, delimiter=\";\")\n",
    "    #print(path)\n",
    "    #print(df.head(2))\n",
    "    frames.append(df)\n",
    "data = pd.concat(frames)"
   ]
  },
  {
   "cell_type": "code",
   "execution_count": 3,
   "metadata": {
    "collapsed": false
   },
   "outputs": [],
   "source": [
    "data.drop('BETRIEBSTAG', axis=1, inplace=True)\n",
    "data.dropna(axis=0, subset=['PRODUKT_ID'], inplace=True)\n",
    "data.drop('PRODUKT_ID', axis=1, inplace=True)\n",
    "data.drop('BETREIBER_ABK', axis=1, inplace=True)\n",
    "data.drop('BETREIBER_NAME', axis=1, inplace=True)\n",
    "data.drop('FAHRT_BEZEICHNER', axis=1, inplace=True)\n",
    "data.drop('BETREIBER_ID', axis=1, inplace=True)\n",
    "data.drop('UMLAUF_ID', axis=1, inplace=True)\n",
    "data.drop('VERKEHRSMITTEL_TEXT', axis=1, inplace=True)\n",
    "data.drop('FAELLT_AUS_TF', axis=1, inplace=True)\n",
    "data.drop('BPUIC', axis=1, inplace=True)\n",
    "data.drop('ZUSATZFAHRT_TF', axis=1, inplace=True)\n",
    "data.dropna(axis=0, inplace=True)"
   ]
  },
  {
   "cell_type": "code",
   "execution_count": 4,
   "metadata": {
    "collapsed": false
   },
   "outputs": [
    {
     "data": {
      "text/plain": [
       "(2692052, 10)"
      ]
     },
     "execution_count": 4,
     "metadata": {},
     "output_type": "execute_result"
    }
   ],
   "source": [
    "data.shape"
   ]
  },
  {
   "cell_type": "code",
   "execution_count": 5,
   "metadata": {
    "collapsed": false
   },
   "outputs": [
    {
     "data": {
      "text/html": [
       "<div>\n",
       "<table border=\"1\" class=\"dataframe\">\n",
       "  <thead>\n",
       "    <tr style=\"text-align: right;\">\n",
       "      <th></th>\n",
       "      <th>LINIEN_ID</th>\n",
       "      <th>LINIEN_TEXT</th>\n",
       "      <th>HALTESTELLEN_NAME</th>\n",
       "      <th>ANKUNFTSZEIT</th>\n",
       "      <th>AN_PROGNOSE</th>\n",
       "      <th>AN_PROGNOSE_STATUS</th>\n",
       "      <th>ABFAHRTSZEIT</th>\n",
       "      <th>AB_PROGNOSE</th>\n",
       "      <th>AB_PROGNOSE_STATUS</th>\n",
       "      <th>DURCHFAHRT_TF</th>\n",
       "    </tr>\n",
       "  </thead>\n",
       "  <tbody>\n",
       "    <tr>\n",
       "      <th>17</th>\n",
       "      <td>10057.0</td>\n",
       "      <td>IR</td>\n",
       "      <td>Thun</td>\n",
       "      <td>18.08.2016 13:48</td>\n",
       "      <td>18.08.2016 13:48</td>\n",
       "      <td>GESCHAETZT</td>\n",
       "      <td>18.08.2016 13:49</td>\n",
       "      <td>18.08.2016 13:49</td>\n",
       "      <td>GESCHAETZT</td>\n",
       "      <td>False</td>\n",
       "    </tr>\n",
       "    <tr>\n",
       "      <th>18</th>\n",
       "      <td>10057.0</td>\n",
       "      <td>IR</td>\n",
       "      <td>Spiez</td>\n",
       "      <td>18.08.2016 13:59</td>\n",
       "      <td>18.08.2016 13:57</td>\n",
       "      <td>GESCHAETZT</td>\n",
       "      <td>18.08.2016 14:00</td>\n",
       "      <td>18.08.2016 14:00</td>\n",
       "      <td>GESCHAETZT</td>\n",
       "      <td>False</td>\n",
       "    </tr>\n",
       "    <tr>\n",
       "      <th>23</th>\n",
       "      <td>101.0</td>\n",
       "      <td>ICE</td>\n",
       "      <td>Wuppertal Hbf</td>\n",
       "      <td>18.08.2016 05:49</td>\n",
       "      <td>18.08.2016 05:52</td>\n",
       "      <td>PROGNOSE</td>\n",
       "      <td>18.08.2016 05:51</td>\n",
       "      <td>18.08.2016 05:54</td>\n",
       "      <td>PROGNOSE</td>\n",
       "      <td>False</td>\n",
       "    </tr>\n",
       "    <tr>\n",
       "      <th>24</th>\n",
       "      <td>101.0</td>\n",
       "      <td>ICE</td>\n",
       "      <td>Köln Hbf</td>\n",
       "      <td>18.08.2016 06:47</td>\n",
       "      <td>18.08.2016 06:46</td>\n",
       "      <td>PROGNOSE</td>\n",
       "      <td>18.08.2016 06:55</td>\n",
       "      <td>18.08.2016 06:55</td>\n",
       "      <td>PROGNOSE</td>\n",
       "      <td>False</td>\n",
       "    </tr>\n",
       "    <tr>\n",
       "      <th>25</th>\n",
       "      <td>101.0</td>\n",
       "      <td>ICE</td>\n",
       "      <td>Siegburg/Bonn</td>\n",
       "      <td>18.08.2016 07:08</td>\n",
       "      <td>18.08.2016 07:09</td>\n",
       "      <td>PROGNOSE</td>\n",
       "      <td>18.08.2016 07:10</td>\n",
       "      <td>18.08.2016 07:11</td>\n",
       "      <td>PROGNOSE</td>\n",
       "      <td>False</td>\n",
       "    </tr>\n",
       "  </tbody>\n",
       "</table>\n",
       "</div>"
      ],
      "text/plain": [
       "    LINIEN_ID LINIEN_TEXT HALTESTELLEN_NAME      ANKUNFTSZEIT  \\\n",
       "17    10057.0          IR              Thun  18.08.2016 13:48   \n",
       "18    10057.0          IR             Spiez  18.08.2016 13:59   \n",
       "23      101.0         ICE     Wuppertal Hbf  18.08.2016 05:49   \n",
       "24      101.0         ICE          Köln Hbf  18.08.2016 06:47   \n",
       "25      101.0         ICE     Siegburg/Bonn  18.08.2016 07:08   \n",
       "\n",
       "         AN_PROGNOSE AN_PROGNOSE_STATUS      ABFAHRTSZEIT       AB_PROGNOSE  \\\n",
       "17  18.08.2016 13:48         GESCHAETZT  18.08.2016 13:49  18.08.2016 13:49   \n",
       "18  18.08.2016 13:57         GESCHAETZT  18.08.2016 14:00  18.08.2016 14:00   \n",
       "23  18.08.2016 05:52           PROGNOSE  18.08.2016 05:51  18.08.2016 05:54   \n",
       "24  18.08.2016 06:46           PROGNOSE  18.08.2016 06:55  18.08.2016 06:55   \n",
       "25  18.08.2016 07:09           PROGNOSE  18.08.2016 07:10  18.08.2016 07:11   \n",
       "\n",
       "   AB_PROGNOSE_STATUS DURCHFAHRT_TF  \n",
       "17         GESCHAETZT         False  \n",
       "18         GESCHAETZT         False  \n",
       "23           PROGNOSE         False  \n",
       "24           PROGNOSE         False  \n",
       "25           PROGNOSE         False  "
      ]
     },
     "execution_count": 5,
     "metadata": {},
     "output_type": "execute_result"
    }
   ],
   "source": [
    "data.head(5)"
   ]
  },
  {
   "cell_type": "code",
   "execution_count": 6,
   "metadata": {
    "collapsed": false
   },
   "outputs": [],
   "source": [
    "arr = (pd.to_datetime(data['ANKUNFTSZEIT']).astype(np.int64) - pd.to_datetime(data['AN_PROGNOSE']).astype(np.int64))/1000000000"
   ]
  },
  {
   "cell_type": "code",
   "execution_count": 8,
   "metadata": {
    "collapsed": false
   },
   "outputs": [],
   "source": [
    "dep = (pd.to_datetime(data['ABFAHRTSZEIT']).astype(np.int64) - pd.to_datetime(data['AB_PROGNOSE']).astype(np.int64))/1000000000"
   ]
  },
  {
   "cell_type": "code",
   "execution_count": 10,
   "metadata": {
    "collapsed": false
   },
   "outputs": [],
   "source": [
    "data10 = data"
   ]
  },
  {
   "cell_type": "code",
   "execution_count": 11,
   "metadata": {
    "collapsed": false
   },
   "outputs": [],
   "source": [
    "data10.drop('ANKUNFTSZEIT', axis=1, inplace=True)\n",
    "data10.drop('AN_PROGNOSE', axis=1, inplace=True)\n",
    "data10.drop('ABFAHRTSZEIT', axis=1, inplace=True)\n",
    "data10.drop('AB_PROGNOSE', axis=1, inplace=True)\n",
    "data10.drop('AN_PROGNOSE_STATUS', axis=1, inplace=True)\n",
    "data10.drop('AB_PROGNOSE_STATUS', axis=1, inplace=True)\n",
    "data10.drop('DURCHFAHRT_TF', axis=1, inplace=True)"
   ]
  },
  {
   "cell_type": "code",
   "execution_count": 12,
   "metadata": {
    "collapsed": false
   },
   "outputs": [
    {
     "data": {
      "text/html": [
       "<div>\n",
       "<table border=\"1\" class=\"dataframe\">\n",
       "  <thead>\n",
       "    <tr style=\"text-align: right;\">\n",
       "      <th></th>\n",
       "      <th>LINIEN_ID</th>\n",
       "      <th>LINIEN_TEXT</th>\n",
       "      <th>HALTESTELLEN_NAME</th>\n",
       "    </tr>\n",
       "  </thead>\n",
       "  <tbody>\n",
       "    <tr>\n",
       "      <th>17</th>\n",
       "      <td>10057.0</td>\n",
       "      <td>IR</td>\n",
       "      <td>Thun</td>\n",
       "    </tr>\n",
       "    <tr>\n",
       "      <th>18</th>\n",
       "      <td>10057.0</td>\n",
       "      <td>IR</td>\n",
       "      <td>Spiez</td>\n",
       "    </tr>\n",
       "    <tr>\n",
       "      <th>23</th>\n",
       "      <td>101.0</td>\n",
       "      <td>ICE</td>\n",
       "      <td>Wuppertal Hbf</td>\n",
       "    </tr>\n",
       "    <tr>\n",
       "      <th>24</th>\n",
       "      <td>101.0</td>\n",
       "      <td>ICE</td>\n",
       "      <td>Köln Hbf</td>\n",
       "    </tr>\n",
       "    <tr>\n",
       "      <th>25</th>\n",
       "      <td>101.0</td>\n",
       "      <td>ICE</td>\n",
       "      <td>Siegburg/Bonn</td>\n",
       "    </tr>\n",
       "  </tbody>\n",
       "</table>\n",
       "</div>"
      ],
      "text/plain": [
       "    LINIEN_ID LINIEN_TEXT HALTESTELLEN_NAME\n",
       "17    10057.0          IR              Thun\n",
       "18    10057.0          IR             Spiez\n",
       "23      101.0         ICE     Wuppertal Hbf\n",
       "24      101.0         ICE          Köln Hbf\n",
       "25      101.0         ICE     Siegburg/Bonn"
      ]
     },
     "execution_count": 12,
     "metadata": {},
     "output_type": "execute_result"
    }
   ],
   "source": [
    "data10.head()"
   ]
  },
  {
   "cell_type": "code",
   "execution_count": 13,
   "metadata": {
    "collapsed": false
   },
   "outputs": [],
   "source": [
    "from sklearn.preprocessing import OneHotEncoder \n",
    "from sklearn.preprocessing import LabelEncoder\n",
    "enc = OneHotEncoder()\n",
    "lbl_text = LabelEncoder()\n",
    "enc1 = OneHotEncoder()\n",
    "lbl_text1 = LabelEncoder()"
   ]
  },
  {
   "cell_type": "code",
   "execution_count": 34,
   "metadata": {
    "collapsed": false
   },
   "outputs": [
    {
     "data": {
      "text/plain": [
       "OneHotEncoder(categorical_features='all', dtype=<class 'float'>,\n",
       "       handle_unknown='error', n_values='auto', sparse=True)"
      ]
     },
     "execution_count": 34,
     "metadata": {},
     "output_type": "execute_result"
    }
   ],
   "source": [
    "lbl_text.fit(data10['LINIEN_TEXT'])\n",
    "lbl_text1.fit(data10['HALTESTELLEN_NAME'])\n",
    "enc.fit(lbl_text.transform(data10['LINIEN_TEXT']).reshape(-1,1))\n",
    "enc1.fit(lbl_text1.transform(data10['HALTESTELLEN_NAME']).reshape(-1,1))"
   ]
  },
  {
   "cell_type": "code",
   "execution_count": 104,
   "metadata": {
    "collapsed": true
   },
   "outputs": [],
   "source": [
    "from sklearn.linear_model import SGDRegressor\n",
    "arrivalReg = SGDRegressor(loss=\"huber\")"
   ]
  },
  {
   "cell_type": "code",
   "execution_count": 105,
   "metadata": {
    "collapsed": false
   },
   "outputs": [
    {
     "name": "stdout",
     "output_type": "stream",
     "text": [
      "1\n",
      "2\n",
      "3\n",
      "4\n",
      "5\n",
      "6\n",
      "7\n",
      "8\n",
      "9\n",
      "10\n",
      "11\n",
      "12\n",
      "13\n",
      "14\n",
      "15\n",
      "16\n",
      "17\n",
      "18\n",
      "19\n",
      "20\n",
      "21\n",
      "22\n",
      "23\n",
      "24\n",
      "25\n",
      "26\n",
      "27\n",
      "28\n",
      "29\n",
      "30\n",
      "31\n",
      "32\n",
      "33\n",
      "34\n",
      "35\n",
      "36\n",
      "37\n",
      "38\n",
      "39\n",
      "40\n",
      "41\n",
      "42\n",
      "43\n",
      "44\n",
      "45\n",
      "46\n",
      "47\n",
      "48\n",
      "49\n",
      "50\n",
      "51\n",
      "52\n",
      "53\n",
      "54\n",
      "55\n",
      "56\n",
      "57\n",
      "58\n",
      "59\n",
      "60\n",
      "61\n",
      "62\n",
      "63\n",
      "64\n",
      "65\n",
      "66\n",
      "67\n",
      "68\n",
      "69\n",
      "70\n",
      "71\n",
      "72\n",
      "73\n",
      "74\n",
      "75\n",
      "76\n",
      "77\n",
      "78\n",
      "79\n",
      "80\n",
      "81\n",
      "82\n",
      "83\n",
      "84\n",
      "85\n",
      "86\n",
      "87\n",
      "88\n",
      "89\n",
      "90\n",
      "91\n",
      "92\n",
      "93\n",
      "94\n",
      "95\n",
      "96\n",
      "97\n",
      "98\n",
      "99\n",
      "100\n",
      "101\n",
      "102\n",
      "103\n",
      "104\n",
      "105\n",
      "106\n",
      "107\n",
      "108\n",
      "109\n",
      "110\n",
      "111\n",
      "112\n",
      "113\n",
      "114\n",
      "115\n",
      "116\n",
      "117\n",
      "118\n",
      "119\n",
      "120\n",
      "121\n",
      "122\n",
      "123\n",
      "124\n",
      "125\n",
      "126\n",
      "127\n",
      "128\n",
      "129\n",
      "130\n",
      "131\n",
      "132\n",
      "133\n",
      "134\n",
      "135\n",
      "136\n",
      "137\n",
      "138\n",
      "139\n",
      "140\n",
      "141\n",
      "142\n",
      "143\n",
      "144\n",
      "145\n",
      "146\n",
      "147\n",
      "148\n",
      "149\n",
      "150\n",
      "151\n",
      "152\n",
      "153\n",
      "154\n",
      "155\n",
      "156\n",
      "157\n",
      "158\n",
      "159\n",
      "160\n",
      "161\n",
      "162\n",
      "163\n",
      "164\n",
      "165\n",
      "166\n",
      "167\n",
      "168\n",
      "169\n",
      "170\n",
      "171\n",
      "172\n",
      "173\n",
      "174\n",
      "175\n",
      "176\n",
      "177\n",
      "178\n",
      "179\n",
      "180\n",
      "181\n",
      "182\n",
      "183\n",
      "184\n",
      "185\n",
      "186\n",
      "187\n",
      "188\n",
      "189\n",
      "190\n",
      "191\n",
      "192\n",
      "193\n",
      "194\n",
      "195\n",
      "196\n",
      "197\n",
      "198\n",
      "199\n",
      "200\n",
      "201\n",
      "202\n",
      "203\n",
      "204\n",
      "205\n",
      "206\n",
      "207\n",
      "208\n",
      "209\n",
      "210\n",
      "211\n",
      "212\n",
      "213\n",
      "214\n",
      "215\n",
      "216\n",
      "217\n",
      "218\n",
      "219\n",
      "220\n",
      "221\n",
      "222\n",
      "223\n",
      "224\n",
      "225\n",
      "226\n",
      "227\n",
      "228\n",
      "229\n",
      "230\n",
      "231\n",
      "232\n",
      "233\n",
      "234\n",
      "235\n",
      "236\n",
      "237\n",
      "238\n",
      "239\n",
      "240\n",
      "241\n",
      "242\n",
      "243\n",
      "244\n",
      "245\n",
      "246\n",
      "247\n",
      "248\n",
      "249\n",
      "250\n",
      "251\n",
      "252\n",
      "253\n",
      "254\n",
      "255\n",
      "256\n",
      "257\n",
      "258\n",
      "259\n",
      "260\n",
      "261\n",
      "262\n",
      "263\n",
      "264\n",
      "265\n",
      "266\n",
      "267\n",
      "268\n",
      "269\n",
      "270\n"
     ]
    }
   ],
   "source": [
    "X\n",
    "for i in range(1,271):\n",
    "    print(i)\n",
    "    strat = (i-1) * 10000\n",
    "    end = i * 10000\n",
    "    if end > len(data10):\n",
    "        end = len(data10)\n",
    "    LINIEN_TEXT = pd.DataFrame(enc.transform(lbl_text.transform(data10.loc[range(strat, end)]['LINIEN_TEXT']).reshape(-1,1)).toarray())\n",
    "    HALTESTELLEN_NAME = pd.DataFrame(enc1.transform(lbl_text1.transform(data10.loc[range(strat, end)]['HALTESTELLEN_NAME']).reshape(-1,1)).toarray())\n",
    "    dd = data10.loc[range(strat, end)]\n",
    "    dd.index = range(0, end-strat)\n",
    "    X = pd.concat([dd, LINIEN_TEXT, HALTESTELLEN_NAME], axis=1)\n",
    "    X.drop('HALTESTELLEN_NAME', axis=1, inplace=True)\n",
    "    X.drop('LINIEN_TEXT', axis=1, inplace=True)\n",
    "    arrivalReg.partial_fit(X, arr1.loc[range(strat, end)])\n",
    "    "
   ]
  },
  {
   "cell_type": "code",
   "execution_count": 137,
   "metadata": {
    "collapsed": false
   },
   "outputs": [
    {
     "name": "stdout",
     "output_type": "stream",
     "text": [
      "Lausanne\n",
      "Bern\n",
      "IR\n",
      "2527\n",
      "[-464.16276112]\n"
     ]
    }
   ],
   "source": [
    "import requests\n",
    "import json\n",
    "BASE_URL_CON = \"http://transport.opendata.ch/v1/connections\"\n",
    "r = requests.get(BASE_URL_CON + '?' + \"from=Lausanne&to=Berne&time=15:30\")\n",
    "response = json.loads(r.text)\n",
    "for i in range(0, len(response['connections'][0]['sections'])):\n",
    "    print(response['connections'][0]['sections'][i]['departure']['location']['name'])\n",
    "    print(response['connections'][0]['sections'][i]['arrival']['location']['name'])\n",
    "    print(response['connections'][0]['sections'][i]['journey']['category'])\n",
    "    print(response['connections'][0]['sections'][i]['journey']['number'])\n",
    "    LINIEN_TEXT = pd.DataFrame(enc.transform(lbl_text.transform(response['connections'][0]['sections'][i]['journey']['category']).reshape(-1,1)).toarray())\n",
    "    HALTESTELLEN_NAME = pd.DataFrame(enc1.transform(lbl_text1.transform(response['connections'][0]['sections'][i]['arrival']['location']['name']).reshape(-1,1)).toarray())\n",
    "    x_test = pd.concat([pd.DataFrame([response['connections'][0]['sections'][i]['journey']['number']]),LINIEN_TEXT,HALTESTELLEN_NAME], axis=1)\n",
    "    #print(x_test)\n",
    "    print(arrivalReg.predict(x_test))"
   ]
  },
  {
   "cell_type": "code",
   "execution_count": 134,
   "metadata": {
    "collapsed": false
   },
   "outputs": [
    {
     "data": {
      "text/html": [
       "<div>\n",
       "<table border=\"1\" class=\"dataframe\">\n",
       "  <thead>\n",
       "    <tr style=\"text-align: right;\">\n",
       "      <th></th>\n",
       "      <th>LINIEN_ID</th>\n",
       "      <th>LINIEN_TEXT</th>\n",
       "      <th>HALTESTELLEN_NAME</th>\n",
       "    </tr>\n",
       "  </thead>\n",
       "  <tbody>\n",
       "  </tbody>\n",
       "</table>\n",
       "</div>"
      ],
      "text/plain": [
       "Empty DataFrame\n",
       "Columns: [LINIEN_ID, LINIEN_TEXT, HALTESTELLEN_NAME]\n",
       "Index: []"
      ]
     },
     "execution_count": 134,
     "metadata": {},
     "output_type": "execute_result"
    }
   ],
   "source": [
    "data10[data10['LINIEN_ID'] == 2]"
   ]
  },
  {
   "cell_type": "code",
   "execution_count": 182,
   "metadata": {
    "collapsed": false
   },
   "outputs": [],
   "source": [
    "import math\n",
    "def predit (start, end, hour, minutes):\n",
    "    returnArr = []\n",
    "    try:\n",
    "        BASE_URL_CON = \"http://transport.opendata.ch/v1/connections\"\n",
    "        r = requests.get(BASE_URL_CON + '?' + \"from=\" + start +\"&to=\" + end + \"&time=\" + str(hour) + \":\" + str(minutes))\n",
    "        response = json.loads(r.text)\n",
    "        for i in range(0, len(response['connections'][0]['sections'])):\n",
    "            #print(response['connections'][0]['sections'][i]['departure']['location']['name'])\n",
    "            #print(response['connections'][0]['sections'][i]['arrival']['location']['name'])\n",
    "            #print(response['connections'][0]['sections'][i]['journey']['category'])\n",
    "            #print(response['connections'][0]['sections'][i]['journey']['number'])\n",
    "            LINIEN_TEXT = pd.DataFrame(enc.transform(lbl_text.transform(response['connections'][0]['sections'][i]['journey']['category']).reshape(-1,1)).toarray())\n",
    "            HALTESTELLEN_NAME = pd.DataFrame(enc1.transform(lbl_text1.transform(response['connections'][0]['sections'][i]['arrival']['location']['name']).reshape(-1,1)).toarray())\n",
    "            x_test = pd.concat([pd.DataFrame([response['connections'][0]['sections'][i]['journey']['number']]),LINIEN_TEXT,HALTESTELLEN_NAME], axis=1)\n",
    "            #print(x_test)\n",
    "            time = math.floor(arrivalRegNew.predict(x_test)/60)\n",
    "            #print(time)\n",
    "            if (time < 0):\n",
    "                time = time  * (-1)\n",
    "                returnArr.append(\"Your train form \" + response['connections'][0]['sections'][i]['departure']['location']['name'] + \" to \" + \"is expected to arrive \" + str(time) + \" minutes late\")\n",
    "            elif (time > 0):\n",
    "                returnArr.append(\"Your train form \" + response['connections'][0]['sections'][i]['departure']['location']['name'] + \" to \" + \"is expected to arrive \" + str(time) + \" minutes early\")\n",
    "            else:\n",
    "                returnArr.append(\"Your train form \" + response['connections'][0]['sections'][i]['departure']['location']['name'] + \" to \" + \"is expected to arrive on time\")\n",
    "        return returnArr         \n",
    "    except:\n",
    "        returnArr.append(\"Ooops looks like we encourted an error\")\n",
    "        return returnArr"
   ]
  },
  {
   "cell_type": "code",
   "execution_count": 183,
   "metadata": {
    "collapsed": false
   },
   "outputs": [
    {
     "name": "stdout",
     "output_type": "stream",
     "text": [
      "['Your train form Zürich HB to is expected to arrive 1 minutes late']\n",
      "['Ooops looks like we encourted an error']\n"
     ]
    }
   ],
   "source": [
    "print(predit(\"Zurich\", \"Lugano\", 15, 30 ))\n",
    "#print(predit(\"Zurich\", \"Geneva\", 15, 30 ))\n",
    "#print(predit(\"Lausanne\", \"Basel\", 15, 30 ))\n",
    "print(predit(\"RSTDYGFTDTFYGUHIK\", \"zddfSedsdFsdfSDFD\", 15, 30 ))"
   ]
  },
  {
   "cell_type": "code",
   "execution_count": 177,
   "metadata": {
    "collapsed": false
   },
   "outputs": [
    {
     "data": {
      "text/plain": [
       "['model.pkl', 'model.pkl_01.npy', 'model.pkl_02.npy']"
      ]
     },
     "execution_count": 177,
     "metadata": {},
     "output_type": "execute_result"
    }
   ],
   "source": [
    "from sklearn.externals import joblib\n",
    "joblib.dump(arrivalReg, 'model.pkl') "
   ]
  },
  {
   "cell_type": "code",
   "execution_count": 178,
   "metadata": {
    "collapsed": false
   },
   "outputs": [],
   "source": [
    "arrivalRegNew = joblib.load('model.pkl')"
   ]
  },
  {
   "cell_type": "code",
   "execution_count": 179,
   "metadata": {
    "collapsed": false
   },
   "outputs": [
    {
     "data": {
      "text/plain": [
       "SGDRegressor(alpha=0.0001, average=False, epsilon=0.1, eta0=0.01,\n",
       "       fit_intercept=True, l1_ratio=0.15, learning_rate='invscaling',\n",
       "       loss='huber', n_iter=5, penalty='l2', power_t=0.25,\n",
       "       random_state=None, shuffle=True, verbose=0, warm_start=False)"
      ]
     },
     "execution_count": 179,
     "metadata": {},
     "output_type": "execute_result"
    }
   ],
   "source": [
    "arrivalRegNew."
   ]
  },
  {
   "cell_type": "code",
   "execution_count": null,
   "metadata": {
    "collapsed": false
   },
   "outputs": [],
   "source": []
  },
  {
   "cell_type": "code",
   "execution_count": null,
   "metadata": {
    "collapsed": false
   },
   "outputs": [],
   "source": []
  },
  {
   "cell_type": "code",
   "execution_count": null,
   "metadata": {
    "collapsed": false
   },
   "outputs": [],
   "source": []
  },
  {
   "cell_type": "code",
   "execution_count": null,
   "metadata": {
    "collapsed": false
   },
   "outputs": [],
   "source": []
  },
  {
   "cell_type": "code",
   "execution_count": null,
   "metadata": {
    "collapsed": false
   },
   "outputs": [],
   "source": []
  },
  {
   "cell_type": "code",
   "execution_count": null,
   "metadata": {
    "collapsed": false
   },
   "outputs": [],
   "source": []
  },
  {
   "cell_type": "code",
   "execution_count": null,
   "metadata": {
    "collapsed": false
   },
   "outputs": [],
   "source": []
  },
  {
   "cell_type": "code",
   "execution_count": null,
   "metadata": {
    "collapsed": false
   },
   "outputs": [],
   "source": []
  },
  {
   "cell_type": "code",
   "execution_count": null,
   "metadata": {
    "collapsed": false
   },
   "outputs": [],
   "source": []
  },
  {
   "cell_type": "code",
   "execution_count": null,
   "metadata": {
    "collapsed": false
   },
   "outputs": [],
   "source": []
  },
  {
   "cell_type": "code",
   "execution_count": null,
   "metadata": {
    "collapsed": false
   },
   "outputs": [],
   "source": []
  },
  {
   "cell_type": "code",
   "execution_count": null,
   "metadata": {
    "collapsed": true
   },
   "outputs": [],
   "source": []
  },
  {
   "cell_type": "code",
   "execution_count": null,
   "metadata": {
    "collapsed": false
   },
   "outputs": [],
   "source": []
  },
  {
   "cell_type": "code",
   "execution_count": null,
   "metadata": {
    "collapsed": false
   },
   "outputs": [],
   "source": []
  },
  {
   "cell_type": "code",
   "execution_count": null,
   "metadata": {
    "collapsed": false
   },
   "outputs": [],
   "source": []
  },
  {
   "cell_type": "code",
   "execution_count": null,
   "metadata": {
    "collapsed": true
   },
   "outputs": [],
   "source": []
  },
  {
   "cell_type": "code",
   "execution_count": null,
   "metadata": {
    "collapsed": false
   },
   "outputs": [],
   "source": []
  },
  {
   "cell_type": "code",
   "execution_count": null,
   "metadata": {
    "collapsed": false
   },
   "outputs": [],
   "source": []
  },
  {
   "cell_type": "code",
   "execution_count": 21,
   "metadata": {
    "collapsed": false
   },
   "outputs": [],
   "source": []
  },
  {
   "cell_type": "code",
   "execution_count": 22,
   "metadata": {
    "collapsed": false
   },
   "outputs": [],
   "source": []
  },
  {
   "cell_type": "code",
   "execution_count": null,
   "metadata": {
    "collapsed": false
   },
   "outputs": [],
   "source": []
  },
  {
   "cell_type": "code",
   "execution_count": null,
   "metadata": {
    "collapsed": false
   },
   "outputs": [],
   "source": []
  },
  {
   "cell_type": "code",
   "execution_count": null,
   "metadata": {
    "collapsed": false
   },
   "outputs": [],
   "source": []
  },
  {
   "cell_type": "code",
   "execution_count": null,
   "metadata": {
    "collapsed": true
   },
   "outputs": [],
   "source": []
  }
 ],
 "metadata": {
  "anaconda-cloud": {},
  "kernelspec": {
   "display_name": "Python [Root]",
   "language": "python",
   "name": "Python [Root]"
  },
  "language_info": {
   "codemirror_mode": {
    "name": "ipython",
    "version": 3
   },
   "file_extension": ".py",
   "mimetype": "text/x-python",
   "name": "python",
   "nbconvert_exporter": "python",
   "pygments_lexer": "ipython3",
   "version": "3.5.2"
  }
 },
 "nbformat": 4,
 "nbformat_minor": 0
}
