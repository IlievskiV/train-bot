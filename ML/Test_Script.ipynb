{
 "cells": [
  {
   "cell_type": "code",
   "execution_count": 1,
   "metadata": {
    "collapsed": true
   },
   "outputs": [],
   "source": [
    "import glob\n",
    "import pandas as pd\n",
    "import numpy as np\n"
   ]
  },
  {
   "cell_type": "code",
   "execution_count": 3,
   "metadata": {
    "collapsed": false
   },
   "outputs": [
    {
     "data": {
      "text/plain": [
       "['2016-08-18_IstDaten.csv',\n",
       " '2016-08-19_IstDaten.csv',\n",
       " '2016-08-20_IstDaten.csv',\n",
       " '2016-08-21_IstDaten.csv',\n",
       " '2016-08-22_IstDaten.csv',\n",
       " '2016-08-23_IstDaten.csv',\n",
       " '2016-08-25_IstDaten.csv',\n",
       " '2016-08-26_IstDaten.csv',\n",
       " '2016-08-27_IstDaten.csv',\n",
       " '2016-08-28_IstDaten.csv',\n",
       " '2016-08-29_IstDaten.csv',\n",
       " '2016-08-30_IstDaten.csv',\n",
       " '2016-08-31_IstDaten.csv',\n",
       " '2016-09-01_IstDaten.csv',\n",
       " '2016-09-02_IstDaten.csv',\n",
       " '2016-09-03_IstDaten.csv',\n",
       " '2016-09-04_IstDaten.csv',\n",
       " '2016-09-05_IstDaten.csv',\n",
       " '2016-09-07_IstDaten.csv',\n",
       " '2016-09-08_IstDaten.csv',\n",
       " '2016-09-09_IstDaten.csv',\n",
       " '2016-09-10_IstDaten.csv',\n",
       " '2016-09-11_IstDaten.csv',\n",
       " '2016-09-12_IstDaten.csv',\n",
       " '2016-09-13_IstDaten.csv',\n",
       " '2016-09-14_IstDaten.csv',\n",
       " '2016-09-15_IstDaten.csv',\n",
       " '2016-09-17_IstDaten.csv',\n",
       " '2016-09-18_IstDaten.csv',\n",
       " '2016-09-19_IstDaten.csv',\n",
       " '2016-09-20_IstDaten.csv',\n",
       " '2016-09-21_IstDaten.csv',\n",
       " '2016-09-22_IstDaten.csv',\n",
       " '2016-09-23_IstDaten.csv',\n",
       " '2016-09-24_IstDaten.csv',\n",
       " '2016-09-25_IstDaten.csv',\n",
       " '2016-09-26_IstDaten.csv',\n",
       " '2016-09-27_IstDaten.csv',\n",
       " '2016-09-28_IstDaten.csv',\n",
       " '2016-09-29_IstDaten.csv',\n",
       " '2016-09-30_IstDaten.csv',\n",
       " '2016-10-01_IstDaten.csv',\n",
       " '2016-10-02_IstDaten.csv',\n",
       " '2016-10-03_IstDaten.csv',\n",
       " '2016-10-04_IstDaten.csv',\n",
       " '2016-10-05_IstDaten.csv',\n",
       " '2016-10-06_IstDaten.csv',\n",
       " '2016-10-07_IstDaten.csv',\n",
       " '2016-10-08_IstDaten.csv',\n",
       " '2016-10-09_IstDaten.csv',\n",
       " '2016-10-12_IstDaten.csv',\n",
       " '2016-10-13_IstDaten.csv',\n",
       " '2016-10-14_IstDaten.csv',\n",
       " '2016-10-15_IstDaten.csv',\n",
       " '2016-10-16_IstDaten.csv',\n",
       " '2016-10-18_IstDaten.csv',\n",
       " '2016-10-19_IstDaten.csv',\n",
       " '2016-10-20_IstDaten.csv',\n",
       " '2016-10-21_IstDaten.csv',\n",
       " '2016-10-22_IstDaten.csv',\n",
       " '2016-10-23_IstDaten.csv',\n",
       " '2016-10-24_IstDaten.csv',\n",
       " '2016-10-25_IstDaten.csv',\n",
       " '2016-10-26_IstDaten.csv',\n",
       " '2016-10-27_IstDaten.csv',\n",
       " '2016-10-31_IstDaten.csv',\n",
       " '2016-11-01_IstDaten.csv',\n",
       " '2016-11-02_IstDaten.csv',\n",
       " '2016-11-04_IstDaten.csv',\n",
       " '2016-11-05_IstDaten.csv',\n",
       " '2016-11-06_IstDaten.csv',\n",
       " '2016-11-07_IstDaten.csv',\n",
       " '2016-11-08_IstDaten.csv',\n",
       " '2016-11-10_IstDaten.csv',\n",
       " '2016-11-11_IstDaten.csv',\n",
       " '2016-11-12_IstDaten.csv',\n",
       " '2016-11-13_IstDaten.csv',\n",
       " '2016-11-14_IstDaten.csv',\n",
       " '2016-11-15_IstDaten.csv',\n",
       " '2016-11-16_IstDaten.csv',\n",
       " '2016-11-17_IstDaten.csv']"
      ]
     },
     "execution_count": 3,
     "metadata": {},
     "output_type": "execute_result"
    }
   ],
   "source": [
    "glob.glob(\"*.csv\")"
   ]
  },
  {
   "cell_type": "code",
   "execution_count": null,
   "metadata": {
    "collapsed": true
   },
   "outputs": [],
   "source": []
  }
 ],
 "metadata": {
  "kernelspec": {
   "display_name": "Python [Root]",
   "language": "python",
   "name": "Python [Root]"
  },
  "language_info": {
   "codemirror_mode": {
    "name": "ipython",
    "version": 3
   },
   "file_extension": ".py",
   "mimetype": "text/x-python",
   "name": "python",
   "nbconvert_exporter": "python",
   "pygments_lexer": "ipython3",
   "version": "3.5.2"
  }
 },
 "nbformat": 4,
 "nbformat_minor": 0
}
