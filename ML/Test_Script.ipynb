{
 "cells": [
  {
   "cell_type": "code",
   "execution_count": 1,
   "metadata": {
    "collapsed": true
   },
   "outputs": [],
   "source": [
    "import glob\n",
    "import pandas as pd\n",
    "import numpy as np\n"
   ]
  },
  {
   "cell_type": "code",
   "execution_count": 2,
   "metadata": {
    "collapsed": false
   },
   "outputs": [
    {
     "name": "stderr",
     "output_type": "stream",
     "text": [
      "C:\\Anaconda3\\lib\\site-packages\\IPython\\core\\interactiveshell.py:2723: DtypeWarning: Columns (0,1,2,3,4,5,7,9,10,11,13,14,15,16,17,18,19,20) have mixed types. Specify dtype option on import or set low_memory=False.\n",
      "  interactivity=interactivity, compiler=compiler, result=result)\n"
     ]
    }
   ],
   "source": [
    "frames = []\n",
    "for path in glob.glob(\"../dataset/*.csv\"):\n",
    "    df = pd.read_csv(path, delimiter=\";\")\n",
    "    #print(path)\n",
    "    #print(df.head(2))\n",
    "    frames.append(df)\n",
    "data = pd.concat(frames)"
   ]
  },
  {
   "cell_type": "code",
   "execution_count": 3,
   "metadata": {
    "collapsed": false
   },
   "outputs": [],
   "source": [
    "data.drop('BETRIEBSTAG', axis=1, inplace=True)\n",
    "data.dropna(axis=0, subset=['PRODUKT_ID'], inplace=True)\n",
    "data.drop('PRODUKT_ID', axis=1, inplace=True)\n",
    "data.drop('BETREIBER_ABK', axis=1, inplace=True)\n",
    "data.drop('BETREIBER_NAME', axis=1, inplace=True)\n",
    "data.drop('FAHRT_BEZEICHNER', axis=1, inplace=True)\n",
    "data.drop('BETREIBER_ID', axis=1, inplace=True)\n",
    "data.drop('UMLAUF_ID', axis=1, inplace=True)\n",
    "data.drop('VERKEHRSMITTEL_TEXT', axis=1, inplace=True)\n",
    "data.drop('FAELLT_AUS_TF', axis=1, inplace=True)\n",
    "data.drop('BPUIC', axis=1, inplace=True)\n",
    "data.drop('ZUSATZFAHRT_TF', axis=1, inplace=True)\n",
    "data.dropna(axis=0, inplace=True)"
   ]
  },
  {
   "cell_type": "code",
   "execution_count": 4,
   "metadata": {
    "collapsed": false
   },
   "outputs": [
    {
     "data": {
      "text/plain": [
       "(2692052, 10)"
      ]
     },
     "execution_count": 4,
     "metadata": {},
     "output_type": "execute_result"
    }
   ],
   "source": [
    "data.shape"
   ]
  },
  {
   "cell_type": "code",
   "execution_count": 5,
   "metadata": {
    "collapsed": false
   },
   "outputs": [
    {
     "data": {
      "text/html": [
       "<div>\n",
       "<table border=\"1\" class=\"dataframe\">\n",
       "  <thead>\n",
       "    <tr style=\"text-align: right;\">\n",
       "      <th></th>\n",
       "      <th>LINIEN_ID</th>\n",
       "      <th>LINIEN_TEXT</th>\n",
       "      <th>HALTESTELLEN_NAME</th>\n",
       "      <th>ANKUNFTSZEIT</th>\n",
       "      <th>AN_PROGNOSE</th>\n",
       "      <th>AN_PROGNOSE_STATUS</th>\n",
       "      <th>ABFAHRTSZEIT</th>\n",
       "      <th>AB_PROGNOSE</th>\n",
       "      <th>AB_PROGNOSE_STATUS</th>\n",
       "      <th>DURCHFAHRT_TF</th>\n",
       "    </tr>\n",
       "  </thead>\n",
       "  <tbody>\n",
       "    <tr>\n",
       "      <th>17</th>\n",
       "      <td>10057.0</td>\n",
       "      <td>IR</td>\n",
       "      <td>Thun</td>\n",
       "      <td>18.08.2016 13:48</td>\n",
       "      <td>18.08.2016 13:48</td>\n",
       "      <td>GESCHAETZT</td>\n",
       "      <td>18.08.2016 13:49</td>\n",
       "      <td>18.08.2016 13:49</td>\n",
       "      <td>GESCHAETZT</td>\n",
       "      <td>False</td>\n",
       "    </tr>\n",
       "    <tr>\n",
       "      <th>18</th>\n",
       "      <td>10057.0</td>\n",
       "      <td>IR</td>\n",
       "      <td>Spiez</td>\n",
       "      <td>18.08.2016 13:59</td>\n",
       "      <td>18.08.2016 13:57</td>\n",
       "      <td>GESCHAETZT</td>\n",
       "      <td>18.08.2016 14:00</td>\n",
       "      <td>18.08.2016 14:00</td>\n",
       "      <td>GESCHAETZT</td>\n",
       "      <td>False</td>\n",
       "    </tr>\n",
       "    <tr>\n",
       "      <th>23</th>\n",
       "      <td>101.0</td>\n",
       "      <td>ICE</td>\n",
       "      <td>Wuppertal Hbf</td>\n",
       "      <td>18.08.2016 05:49</td>\n",
       "      <td>18.08.2016 05:52</td>\n",
       "      <td>PROGNOSE</td>\n",
       "      <td>18.08.2016 05:51</td>\n",
       "      <td>18.08.2016 05:54</td>\n",
       "      <td>PROGNOSE</td>\n",
       "      <td>False</td>\n",
       "    </tr>\n",
       "    <tr>\n",
       "      <th>24</th>\n",
       "      <td>101.0</td>\n",
       "      <td>ICE</td>\n",
       "      <td>Köln Hbf</td>\n",
       "      <td>18.08.2016 06:47</td>\n",
       "      <td>18.08.2016 06:46</td>\n",
       "      <td>PROGNOSE</td>\n",
       "      <td>18.08.2016 06:55</td>\n",
       "      <td>18.08.2016 06:55</td>\n",
       "      <td>PROGNOSE</td>\n",
       "      <td>False</td>\n",
       "    </tr>\n",
       "    <tr>\n",
       "      <th>25</th>\n",
       "      <td>101.0</td>\n",
       "      <td>ICE</td>\n",
       "      <td>Siegburg/Bonn</td>\n",
       "      <td>18.08.2016 07:08</td>\n",
       "      <td>18.08.2016 07:09</td>\n",
       "      <td>PROGNOSE</td>\n",
       "      <td>18.08.2016 07:10</td>\n",
       "      <td>18.08.2016 07:11</td>\n",
       "      <td>PROGNOSE</td>\n",
       "      <td>False</td>\n",
       "    </tr>\n",
       "  </tbody>\n",
       "</table>\n",
       "</div>"
      ],
      "text/plain": [
       "    LINIEN_ID LINIEN_TEXT HALTESTELLEN_NAME      ANKUNFTSZEIT  \\\n",
       "17    10057.0          IR              Thun  18.08.2016 13:48   \n",
       "18    10057.0          IR             Spiez  18.08.2016 13:59   \n",
       "23      101.0         ICE     Wuppertal Hbf  18.08.2016 05:49   \n",
       "24      101.0         ICE          Köln Hbf  18.08.2016 06:47   \n",
       "25      101.0         ICE     Siegburg/Bonn  18.08.2016 07:08   \n",
       "\n",
       "         AN_PROGNOSE AN_PROGNOSE_STATUS      ABFAHRTSZEIT       AB_PROGNOSE  \\\n",
       "17  18.08.2016 13:48         GESCHAETZT  18.08.2016 13:49  18.08.2016 13:49   \n",
       "18  18.08.2016 13:57         GESCHAETZT  18.08.2016 14:00  18.08.2016 14:00   \n",
       "23  18.08.2016 05:52           PROGNOSE  18.08.2016 05:51  18.08.2016 05:54   \n",
       "24  18.08.2016 06:46           PROGNOSE  18.08.2016 06:55  18.08.2016 06:55   \n",
       "25  18.08.2016 07:09           PROGNOSE  18.08.2016 07:10  18.08.2016 07:11   \n",
       "\n",
       "   AB_PROGNOSE_STATUS DURCHFAHRT_TF  \n",
       "17         GESCHAETZT         False  \n",
       "18         GESCHAETZT         False  \n",
       "23           PROGNOSE         False  \n",
       "24           PROGNOSE         False  \n",
       "25           PROGNOSE         False  "
      ]
     },
     "execution_count": 5,
     "metadata": {},
     "output_type": "execute_result"
    }
   ],
   "source": [
    "data.head(5)"
   ]
  },
  {
   "cell_type": "code",
   "execution_count": null,
   "metadata": {
    "collapsed": false
   },
   "outputs": [],
   "source": [
    "arr = (pd.to_datetime(data['ANKUNFTSZEIT']).astype(np.int64) - pd.to_datetime(data['AN_PROGNOSE']).astype(np.int64))/1000000000"
   ]
  },
  {
   "cell_type": "code",
   "execution_count": null,
   "metadata": {
    "collapsed": false
   },
   "outputs": [],
   "source": []
  },
  {
   "cell_type": "code",
   "execution_count": null,
   "metadata": {
    "collapsed": false
   },
   "outputs": [],
   "source": []
  },
  {
   "cell_type": "code",
   "execution_count": null,
   "metadata": {
    "collapsed": false
   },
   "outputs": [],
   "source": []
  },
  {
   "cell_type": "code",
   "execution_count": null,
   "metadata": {
    "collapsed": false
   },
   "outputs": [],
   "source": []
  },
  {
   "cell_type": "code",
   "execution_count": null,
   "metadata": {
    "collapsed": false
   },
   "outputs": [],
   "source": []
  },
  {
   "cell_type": "code",
   "execution_count": null,
   "metadata": {
    "collapsed": false
   },
   "outputs": [],
   "source": []
  },
  {
   "cell_type": "code",
   "execution_count": null,
   "metadata": {
    "collapsed": false
   },
   "outputs": [],
   "source": []
  },
  {
   "cell_type": "code",
   "execution_count": null,
   "metadata": {
    "collapsed": true
   },
   "outputs": [],
   "source": []
  },
  {
   "cell_type": "code",
   "execution_count": null,
   "metadata": {
    "collapsed": false
   },
   "outputs": [],
   "source": []
  },
  {
   "cell_type": "code",
   "execution_count": null,
   "metadata": {
    "collapsed": false
   },
   "outputs": [],
   "source": []
  },
  {
   "cell_type": "code",
   "execution_count": null,
   "metadata": {
    "collapsed": true
   },
   "outputs": [],
   "source": []
  },
  {
   "cell_type": "code",
   "execution_count": null,
   "metadata": {
    "collapsed": false
   },
   "outputs": [],
   "source": []
  },
  {
   "cell_type": "code",
   "execution_count": null,
   "metadata": {
    "collapsed": false
   },
   "outputs": [],
   "source": []
  },
  {
   "cell_type": "code",
   "execution_count": null,
   "metadata": {
    "collapsed": false
   },
   "outputs": [],
   "source": []
  },
  {
   "cell_type": "code",
   "execution_count": null,
   "metadata": {
    "collapsed": false
   },
   "outputs": [],
   "source": [
    "data10 = data.head(100000)"
   ]
  },
  {
   "cell_type": "code",
   "execution_count": null,
   "metadata": {
    "collapsed": false
   },
   "outputs": [],
   "source": [
    "dep = (pd.to_datetime(data10['ABFAHRTSZEIT']).astype(np.int64) - pd.to_datetime(data10['AB_PROGNOSE']).astype(np.int64))/1000000000"
   ]
  },
  {
   "cell_type": "code",
   "execution_count": null,
   "metadata": {
    "collapsed": false
   },
   "outputs": [],
   "source": [
    "data10.drop('ANKUNFTSZEIT', axis=1, inplace=True)\n",
    "data10.drop('AN_PROGNOSE', axis=1, inplace=True)\n",
    "data10.drop('ABFAHRTSZEIT', axis=1, inplace=True)\n",
    "data10.drop('AB_PROGNOSE', axis=1, inplace=True)\n",
    "data10.drop('AN_PROGNOSE_STATUS', axis=1, inplace=True)\n",
    "data10.drop('AB_PROGNOSE_STATUS', axis=1, inplace=True)\n",
    "data10.drop('DURCHFAHRT_TF', axis=1, inplace=True)"
   ]
  },
  {
   "cell_type": "code",
   "execution_count": null,
   "metadata": {
    "collapsed": false
   },
   "outputs": [],
   "source": [
    "data10.head()"
   ]
  },
  {
   "cell_type": "code",
   "execution_count": null,
   "metadata": {
    "collapsed": false
   },
   "outputs": [],
   "source": [
    "from sklearn.preprocessing import OneHotEncoder \n",
    "from sklearn.preprocessing import LabelEncoder\n",
    "enc = OneHotEncoder()\n",
    "lbl_text = LabelEncoder()"
   ]
  },
  {
   "cell_type": "code",
   "execution_count": null,
   "metadata": {
    "collapsed": false
   },
   "outputs": [],
   "source": [
    "lbl_text.fit(data10['LINIEN_TEXT'])"
   ]
  },
  {
   "cell_type": "code",
   "execution_count": null,
   "metadata": {
    "collapsed": false
   },
   "outputs": [],
   "source": [
    "lbl_text.transform(data10['LINIEN_TEXT'])"
   ]
  },
  {
   "cell_type": "code",
   "execution_count": null,
   "metadata": {
    "collapsed": false
   },
   "outputs": [],
   "source": [
    "enc.fit(lbl_text.transform(data10['LINIEN_TEXT']).reshape(-1,1))"
   ]
  },
  {
   "cell_type": "code",
   "execution_count": null,
   "metadata": {
    "collapsed": false
   },
   "outputs": [],
   "source": [
    "enc.transform(lbl_text.transform(data10['LINIEN_TEXT']).reshape(-1,1)).toarray()"
   ]
  },
  {
   "cell_type": "code",
   "execution_count": null,
   "metadata": {
    "collapsed": false
   },
   "outputs": [],
   "source": [
    "LINIEN_TEXT = pd.DataFrame(enc.transform(lbl_text.transform(data10['LINIEN_TEXT']).reshape(-1,1)).toarray())"
   ]
  },
  {
   "cell_type": "code",
   "execution_count": null,
   "metadata": {
    "collapsed": true
   },
   "outputs": [],
   "source": [
    "enc1 = OneHotEncoder()\n",
    "lbl_text1 = LabelEncoder()"
   ]
  },
  {
   "cell_type": "code",
   "execution_count": null,
   "metadata": {
    "collapsed": false
   },
   "outputs": [],
   "source": [
    "lbl_text1.fit(data10['HALTESTELLEN_NAME'])"
   ]
  },
  {
   "cell_type": "code",
   "execution_count": null,
   "metadata": {
    "collapsed": false
   },
   "outputs": [],
   "source": [
    "enc1.fit(lbl_text1.transform(data10['HALTESTELLEN_NAME']).reshape(-1,1))"
   ]
  },
  {
   "cell_type": "code",
   "execution_count": null,
   "metadata": {
    "collapsed": false
   },
   "outputs": [],
   "source": [
    "enc1.transform(lbl_text1.transform(data10['HALTESTELLEN_NAME']).reshape(-1,1)).toarray()"
   ]
  },
  {
   "cell_type": "code",
   "execution_count": null,
   "metadata": {
    "collapsed": true
   },
   "outputs": [],
   "source": [
    "HALTESTELLEN_NAME = pd.DataFrame(enc1.transform(lbl_text1.transform(data10['HALTESTELLEN_NAME']).reshape(-1,1)).toarray())"
   ]
  },
  {
   "cell_type": "code",
   "execution_count": null,
   "metadata": {
    "collapsed": false
   },
   "outputs": [],
   "source": [
    "data10.drop('HALTESTELLEN_NAME', axis=1, inplace=True)\n",
    "data10.drop('LINIEN_TEXT', axis=1, inplace=True)"
   ]
  },
  {
   "cell_type": "code",
   "execution_count": null,
   "metadata": {
    "collapsed": false
   },
   "outputs": [],
   "source": [
    "data10.index = range(0,len(data10))\n",
    "X = pd.concat([data10, LINIEN_TEXT, HALTESTELLEN_NAME], axis=1)"
   ]
  },
  {
   "cell_type": "code",
   "execution_count": null,
   "metadata": {
    "collapsed": false
   },
   "outputs": [],
   "source": [
    "from sklearn.linear_model import SGDRegressor"
   ]
  },
  {
   "cell_type": "code",
   "execution_count": null,
   "metadata": {
    "collapsed": false
   },
   "outputs": [],
   "source": [
    "arrivalReg = SGDRegressor(loss=\"huber\")"
   ]
  },
  {
   "cell_type": "code",
   "execution_count": null,
   "metadata": {
    "collapsed": false
   },
   "outputs": [],
   "source": [
    "arrivalReg.fit(X.head(80000), arr.head(80000))"
   ]
  },
  {
   "cell_type": "code",
   "execution_count": null,
   "metadata": {
    "collapsed": false
   },
   "outputs": [],
   "source": [
    "arrivalReg.predict(X.tail(20000))"
   ]
  },
  {
   "cell_type": "code",
   "execution_count": null,
   "metadata": {
    "collapsed": false
   },
   "outputs": [],
   "source": [
    "arr.head(20000)"
   ]
  },
  {
   "cell_type": "code",
   "execution_count": null,
   "metadata": {
    "collapsed": true
   },
   "outputs": [],
   "source": []
  }
 ],
 "metadata": {
  "anaconda-cloud": {},
  "kernelspec": {
   "display_name": "Python [Root]",
   "language": "python",
   "name": "Python [Root]"
  },
  "language_info": {
   "codemirror_mode": {
    "name": "ipython",
    "version": 3
   },
   "file_extension": ".py",
   "mimetype": "text/x-python",
   "name": "python",
   "nbconvert_exporter": "python",
   "pygments_lexer": "ipython3",
   "version": "3.5.2"
  }
 },
 "nbformat": 4,
 "nbformat_minor": 0
}
